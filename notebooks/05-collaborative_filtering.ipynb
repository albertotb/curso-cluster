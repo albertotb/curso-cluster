{
 "cells": [
  {
   "cell_type": "markdown",
   "metadata": {},
   "source": [
    "# Filtrado colaborativo\n",
    "\n",
    "El filtrado colaborativo es una de las técnicas más usadas para construir sistemas de recomendación inteligentes, que mejoran sus recomendaciones a medida que los usuarios interaccionan con el sistema.\n",
    "\n",
    "La mayoría de sitios web como Amazon, Netflix, Youtube y Spotify usan filtrado colaborativo como parte de sus sistemas de recomendación.\n",
    "\n",
    "## Definición\n",
    "\n",
    "Técnica que permite identificar items que potencialmente pueden interesar a un determinado usuarios, basándonos en las reacciones de usuarios similares.\n",
    "\n",
    "Los algoritmos de filtrado colaborativo tienen 2 fases:\n",
    " - Encontrar un subconjunto de usuarios con gustos similares al usuario para el cual se quiere realizar la recomendación\n",
    " - Combinar los valores de los usuarios similares para generar una lista de recomendaciones\n",
    " \n",
    "Normalmente los datos para construir un sistema de recomendación se almacenan en una matriz donde las columnas representan un conjunto de items y las filas los distintos usuarios, que reaccionan ante algunos de los items:\n",
    "\n",
    "![](../img/rating-matrix.webp)\n",
    "\n",
    "Las reacciones de los usuarios pueden ser:\n",
    "\n",
    "- **explícitas**: valorar una película, darle a like a una canción. En este caso el usuario indica directamente su preferencia por el item, en ocasiones en una escala numérica (por ej. 1-5)\n",
    "- **implícitas**: ver una película, escuchar una canción. En este caso inferimos que el usuario está interesado en el item por la propia interacción, aunque puede no ser el caso\n",
    "\n",
    "El objetivo del filtrado colaborativo es completar la matriz de usuarios-items, infiriendo las preferencias de ciertos items a los cuales el usuario no ha reaccionado todavía. Este problema se conoce con el nombre de [*matrix completion*](https://en.wikipedia.org/wiki/Matrix_completion) en la literatura y tiene diversas aplicaciones."
   ]
  },
  {
   "cell_type": "markdown",
   "metadata": {},
   "source": [
    "## Tipos de filtrado colaborativo\n",
    "\n",
    "De forma similar al clustering, no existe un único algoritmo del filtrado colaborativo, sino que hay toda una familia de algoritmos dependiendo de las respuestas que demos a las siguientes preguntas:\n",
    "\n",
    "- ¿Cómo se identifican que usuarios o items son similares entre si?\n",
    "- ¿Cómo se combinan las reacciones de usuarios similares para estimar la reacción de un usuario con un item determinado?\n",
    "\n",
    "Es importante destacar que, en una aproximación basada únicamente en filtrado colaborativo, la similaridad entre usuarios únicamente se calcula basándonos en sus interacciones, y no en otro tipo de variables externas como edad, sexo, etc.\n",
    "\n",
    "Según la implementación, también se pueden distinguir dos tipos de filtrado colaborativo:\n",
    "\n",
    "- Basado en **memoria**: las recomendaciones se realizan accediendo a la base de datos de usuarios-items por completo y de forma directa. La ventaja principal es que se pueden adaptar a cambios en los datos.\n",
    "\n",
    "- Basado en **modelos**: en este caso se entrena un modelo a partir de la matriz anterior, que luego se usa para realizar las recomendaciones. La principal ventaja es que suelen ser bastante más eficientes computacionalmente hablando."
   ]
  },
  {
   "cell_type": "markdown",
   "metadata": {},
   "source": [
    "## FC basado en memoria\n",
    "\n",
    "### Medidas de distancia\n",
    "\n",
    "El primer paso es definir una distancia para encontrar usuarios similares. Vamos a trabajar con los siguientes datos de prueba:"
   ]
  },
  {
   "cell_type": "code",
   "execution_count": 1,
   "metadata": {},
   "outputs": [
    {
     "data": {
      "text/html": [
       "<div>\n",
       "<style scoped>\n",
       "    .dataframe tbody tr th:only-of-type {\n",
       "        vertical-align: middle;\n",
       "    }\n",
       "\n",
       "    .dataframe tbody tr th {\n",
       "        vertical-align: top;\n",
       "    }\n",
       "\n",
       "    .dataframe thead th {\n",
       "        text-align: right;\n",
       "    }\n",
       "</style>\n",
       "<table border=\"1\" class=\"dataframe\">\n",
       "  <thead>\n",
       "    <tr style=\"text-align: right;\">\n",
       "      <th></th>\n",
       "      <th>item1</th>\n",
       "      <th>item2</th>\n",
       "    </tr>\n",
       "  </thead>\n",
       "  <tbody>\n",
       "    <tr>\n",
       "      <th>A</th>\n",
       "      <td>1.0</td>\n",
       "      <td>2</td>\n",
       "    </tr>\n",
       "    <tr>\n",
       "      <th>B</th>\n",
       "      <td>2.0</td>\n",
       "      <td>4</td>\n",
       "    </tr>\n",
       "    <tr>\n",
       "      <th>C</th>\n",
       "      <td>2.5</td>\n",
       "      <td>4</td>\n",
       "    </tr>\n",
       "    <tr>\n",
       "      <th>D</th>\n",
       "      <td>4.5</td>\n",
       "      <td>5</td>\n",
       "    </tr>\n",
       "  </tbody>\n",
       "</table>\n",
       "</div>"
      ],
      "text/plain": [
       "   item1  item2\n",
       "A    1.0      2\n",
       "B    2.0      4\n",
       "C    2.5      4\n",
       "D    4.5      5"
      ]
     },
     "execution_count": 1,
     "metadata": {},
     "output_type": "execute_result"
    }
   ],
   "source": [
    "import pandas as pd\n",
    "ratings = pd.DataFrame(\n",
    "    [[1, 2], [2, 4], [2.5, 4], [4.5, 5]], \n",
    "    columns=[\"item1\", \"item2\"], \n",
    "    index=[\"A\", \"B\", \"C\", \"D\"]\n",
    ")\n",
    "ratings"
   ]
  },
  {
   "cell_type": "code",
   "execution_count": 2,
   "metadata": {},
   "outputs": [
    {
     "data": {
      "text/plain": [
       "array([[0.        , 2.23606798, 2.5       , 4.60977223],\n",
       "       [2.23606798, 0.        , 0.5       , 2.6925824 ],\n",
       "       [2.5       , 0.5       , 0.        , 2.23606798],\n",
       "       [4.60977223, 2.6925824 , 2.23606798, 0.        ]])"
      ]
     },
     "execution_count": 2,
     "metadata": {},
     "output_type": "execute_result"
    }
   ],
   "source": [
    "from sklearn.metrics import pairwise_distances\n",
    "\n",
    "pairwise_distances(ratings, metric=\"euclidean\")"
   ]
  },
  {
   "cell_type": "markdown",
   "metadata": {},
   "source": [
    "En este ejemplo, usando la distancia Euclidea, vemos que el usuario C está más próximo a D (distancia 2.23) que a A (distancia 2.5). Sin embargo, para este tipo de aplicaciones, muchas veces nos interesa más los patrones de los ratings para todos los items que los valores absolutos en si.\n",
    "\n",
    "En ese caso, podemos usar otra medida de distancia como la correlación o la [distancia coseno](https://en.wikipedia.org/wiki/Cosine_similarity):\n",
    "\n",
    "$$1 - \\frac{u \\cdot v}{||u||_2 ||v||_2}$$"
   ]
  },
  {
   "cell_type": "code",
   "execution_count": 3,
   "metadata": {},
   "outputs": [
    {
     "data": {
      "text/plain": [
       "array([[0.        , 0.        , 0.00450453, 0.03600738],\n",
       "       [0.        , 0.        , 0.00450453, 0.03600738],\n",
       "       [0.00450453, 0.00450453, 0.        , 0.01513723],\n",
       "       [0.03600738, 0.03600738, 0.01513723, 0.        ]])"
      ]
     },
     "execution_count": 3,
     "metadata": {},
     "output_type": "execute_result"
    }
   ],
   "source": [
    "from scipy.spatial.distance import cosine\n",
    "\n",
    "pairwise_distances(ratings, metric=cosine)"
   ]
  },
  {
   "cell_type": "markdown",
   "metadata": {},
   "source": [
    "Usando esta distancia el usuario C está más próximo a A (distancia 0.004) que a D (0.015). Además, los usuarios A y B son idénticos, ya que aunque no tienen las mismas valoraciones siguen la misma tendencia a la hora de valorar los dos items.\n",
    "\n",
    "Puesto que distintas personas son más estrictas que otras a la hora de valorar, es habitual restar la media de todas las interacciones para un usuario determinado para eliminar dichos sesgos:"
   ]
  },
  {
   "cell_type": "code",
   "execution_count": 4,
   "metadata": {},
   "outputs": [
    {
     "data": {
      "text/html": [
       "<div>\n",
       "<style scoped>\n",
       "    .dataframe tbody tr th:only-of-type {\n",
       "        vertical-align: middle;\n",
       "    }\n",
       "\n",
       "    .dataframe tbody tr th {\n",
       "        vertical-align: top;\n",
       "    }\n",
       "\n",
       "    .dataframe thead th {\n",
       "        text-align: right;\n",
       "    }\n",
       "</style>\n",
       "<table border=\"1\" class=\"dataframe\">\n",
       "  <thead>\n",
       "    <tr style=\"text-align: right;\">\n",
       "      <th></th>\n",
       "      <th>item1</th>\n",
       "      <th>item2</th>\n",
       "    </tr>\n",
       "  </thead>\n",
       "  <tbody>\n",
       "    <tr>\n",
       "      <th>A</th>\n",
       "      <td>-0.50</td>\n",
       "      <td>0.50</td>\n",
       "    </tr>\n",
       "    <tr>\n",
       "      <th>B</th>\n",
       "      <td>-1.00</td>\n",
       "      <td>1.00</td>\n",
       "    </tr>\n",
       "    <tr>\n",
       "      <th>C</th>\n",
       "      <td>-0.75</td>\n",
       "      <td>0.75</td>\n",
       "    </tr>\n",
       "    <tr>\n",
       "      <th>D</th>\n",
       "      <td>-0.25</td>\n",
       "      <td>0.25</td>\n",
       "    </tr>\n",
       "  </tbody>\n",
       "</table>\n",
       "</div>"
      ],
      "text/plain": [
       "   item1  item2\n",
       "A  -0.50   0.50\n",
       "B  -1.00   1.00\n",
       "C  -0.75   0.75\n",
       "D  -0.25   0.25"
      ]
     },
     "execution_count": 4,
     "metadata": {},
     "output_type": "execute_result"
    }
   ],
   "source": [
    "ratings.sub(ratings.mean(axis=1), axis=0)"
   ]
  },
  {
   "cell_type": "markdown",
   "metadata": {},
   "source": [
    "### Combinar interacciones\n",
    "\n",
    "Una vez ordenados los usuarios de menor a mayor respecto a la distancia con el usuario target, hay que decidir cuantos de ellos se van a usar para predecir la interacción. A continuación, tenemos que combinar sus interacciones. La forma más sencilla es usando la media.\n",
    "\n",
    "Otra opción es usar una media ponderada por el inverso de la distancia (similaridad). De esta forma las interacciones de usuarios similares tienen más peso en la estimación.\n",
    "\n",
    "### Tipos\n",
    "\n",
    "El ejemplo anterior se trata de filtrado colaborativo basado en usuario. Sin embargo, dependiendo de la aplicación y del número distinto de usuarios/items, puede ser mejor realizar una aproximación basada en items:\n",
    "\n",
    "- Basado en **usuario**: para un usuario U se buscan usuarios similares y se determina el rating de un item I como la combinación de los ratings de los usuarios similares\n",
    "\n",
    "- Basado en **item**: si el usuario U no ha evaluado el item I, estimamos esta interacción combinando las evaluaciones de ese mismo usuario para los N items más similares\n",
    "\n",
    "Ambas aproximaciones son muy similares y únicamente cambia el punto de vista. Los sistema de recomendación basados en items suelen funcionar mejor en entornos donde hay muchos más items que usuarios, por ejemplo Amazon. Sin embargo no suelen ser la mejor opción para conjuntos de datos de ratings, ya que las recomendaciones únicamente están basadas en el propio usuario y suelen ser muy obvias.\n",
    "\n",
    "\n",
    "#### Ejemplo con datos artificiales\n",
    "\n",
    "Vamos a usar la libreria [Surprise](http://surpriselib.com/)\n",
    "\n",
    "Otra librería que implementa este tipo de técnicas es [`lighfm`](https://github.com/lyst/lightfm)"
   ]
  },
  {
   "cell_type": "code",
   "execution_count": 5,
   "metadata": {
    "scrolled": false
   },
   "outputs": [],
   "source": [
    "# Para instalar la libreria hay que descomentar esta linea\n",
    "#%conda install -c conda-forge scikit-surprise"
   ]
  },
  {
   "cell_type": "code",
   "execution_count": 6,
   "metadata": {},
   "outputs": [
    {
     "data": {
      "text/html": [
       "<div>\n",
       "<style scoped>\n",
       "    .dataframe tbody tr th:only-of-type {\n",
       "        vertical-align: middle;\n",
       "    }\n",
       "\n",
       "    .dataframe tbody tr th {\n",
       "        vertical-align: top;\n",
       "    }\n",
       "\n",
       "    .dataframe thead th {\n",
       "        text-align: right;\n",
       "    }\n",
       "</style>\n",
       "<table border=\"1\" class=\"dataframe\">\n",
       "  <thead>\n",
       "    <tr style=\"text-align: right;\">\n",
       "      <th></th>\n",
       "      <th>item</th>\n",
       "      <th>user</th>\n",
       "      <th>rating</th>\n",
       "    </tr>\n",
       "  </thead>\n",
       "  <tbody>\n",
       "    <tr>\n",
       "      <th>0</th>\n",
       "      <td>1</td>\n",
       "      <td>A</td>\n",
       "      <td>1.0</td>\n",
       "    </tr>\n",
       "    <tr>\n",
       "      <th>1</th>\n",
       "      <td>2</td>\n",
       "      <td>A</td>\n",
       "      <td>2.0</td>\n",
       "    </tr>\n",
       "    <tr>\n",
       "      <th>2</th>\n",
       "      <td>1</td>\n",
       "      <td>B</td>\n",
       "      <td>2.0</td>\n",
       "    </tr>\n",
       "    <tr>\n",
       "      <th>3</th>\n",
       "      <td>2</td>\n",
       "      <td>B</td>\n",
       "      <td>4.0</td>\n",
       "    </tr>\n",
       "    <tr>\n",
       "      <th>4</th>\n",
       "      <td>1</td>\n",
       "      <td>C</td>\n",
       "      <td>2.5</td>\n",
       "    </tr>\n",
       "    <tr>\n",
       "      <th>5</th>\n",
       "      <td>2</td>\n",
       "      <td>C</td>\n",
       "      <td>4.0</td>\n",
       "    </tr>\n",
       "    <tr>\n",
       "      <th>6</th>\n",
       "      <td>1</td>\n",
       "      <td>D</td>\n",
       "      <td>4.5</td>\n",
       "    </tr>\n",
       "    <tr>\n",
       "      <th>7</th>\n",
       "      <td>2</td>\n",
       "      <td>D</td>\n",
       "      <td>5.0</td>\n",
       "    </tr>\n",
       "    <tr>\n",
       "      <th>8</th>\n",
       "      <td>1</td>\n",
       "      <td>E</td>\n",
       "      <td>3.0</td>\n",
       "    </tr>\n",
       "  </tbody>\n",
       "</table>\n",
       "</div>"
      ],
      "text/plain": [
       "   item user  rating\n",
       "0     1    A     1.0\n",
       "1     2    A     2.0\n",
       "2     1    B     2.0\n",
       "3     2    B     4.0\n",
       "4     1    C     2.5\n",
       "5     2    C     4.0\n",
       "6     1    D     4.5\n",
       "7     2    D     5.0\n",
       "8     1    E     3.0"
      ]
     },
     "execution_count": 6,
     "metadata": {},
     "output_type": "execute_result"
    }
   ],
   "source": [
    "from surprise import Dataset\n",
    "from surprise import Reader\n",
    "\n",
    "ratings_dict = {\n",
    "    \"item\": [1, 2, 1, 2, 1, 2, 1, 2, 1],\n",
    "    \"user\": ['A', 'A', 'B', 'B', 'C', 'C', 'D', 'D', 'E'],\n",
    "    \"rating\": [1, 2, 2, 4, 2.5, 4, 4.5, 5, 3],\n",
    "}\n",
    "\n",
    "df = pd.DataFrame(ratings_dict)\n",
    "reader = Reader(rating_scale=(1, 5))\n",
    "\n",
    "# Loads Pandas dataframe\n",
    "data = Dataset.load_from_df(df, reader)\n",
    "df"
   ]
  },
  {
   "cell_type": "code",
   "execution_count": 7,
   "metadata": {},
   "outputs": [
    {
     "name": "stdout",
     "output_type": "stream",
     "text": [
      "Computing the cosine similarity matrix...\n",
      "Done computing similarity matrix.\n"
     ]
    },
    {
     "data": {
      "text/plain": [
       "<surprise.prediction_algorithms.knns.KNNWithMeans at 0x7f061fe7da90>"
      ]
     },
     "execution_count": 7,
     "metadata": {},
     "output_type": "execute_result"
    }
   ],
   "source": [
    "from surprise import KNNWithMeans\n",
    "\n",
    "sim_options = {\n",
    "    \"name\": \"cosine\",\n",
    "    \"user_based\": True,\n",
    "}\n",
    "\n",
    "knn = KNNWithMeans(sim_options=sim_options)\n",
    "\n",
    "trainingSet = data.build_full_trainset()\n",
    "knn.fit(trainingSet)"
   ]
  },
  {
   "cell_type": "code",
   "execution_count": 8,
   "metadata": {},
   "outputs": [
    {
     "data": {
      "text/plain": [
       "3.111111111111111"
      ]
     },
     "execution_count": 8,
     "metadata": {},
     "output_type": "execute_result"
    }
   ],
   "source": [
    "pred = knn.predict('E', 2)\n",
    "pred.est"
   ]
  },
  {
   "cell_type": "markdown",
   "metadata": {},
   "source": [
    "#### Ejercicio\n",
    "\n",
    "Vamos a usar los datos de ratings de canciones de [Kaggle](https://www.kaggle.com/rymnikski/dataset-for-collaborative-filters):\n",
    "\n",
    "1. Cargar los datos como un DataFrame de pandas\n",
    "\n",
    "2. ¿Cuantos usuarios e items distintos hay?\n",
    "\n",
    "3. Calcula la media, máximo y mínimo número de items que han evaluado los usuarios\n",
    "\n",
    "4. Entrena un algoritmo de filtrado colaborativo `KNNWithMeans`"
   ]
  },
  {
   "cell_type": "markdown",
   "metadata": {},
   "source": [
    "## FC basado en modelos\n",
    "\n",
    "Estos algoritmos se basan en reducir o comprimir la matriz de usuarios-items. Esto es útil ya que en la práctica es muy habitual que la matriz sea muy dispersa, es decir, que muchos usuarios no hayan interaccionado con muchos de los items.\n",
    "\n",
    "La aproximación más popular consiste en reducir la dimensionalidad de la matriz usando técnicas de factorización de matrices. Dada la matriz original con $m$ usuarios y $n$ items $A \\in R^{m \\times n}$, el modelo aprende:\n",
    "\n",
    "- Una matriz de embedding de los usuarios, $U \\in R^{m \\times d}$, donde la fila $i$ es el embedding del usuario $i$\n",
    "\n",
    "- Una matriz de embedding de los items, $V \\in R^{n \\times d}$, donde la fila $j$ es el embedding del item $j$ \n",
    "\n",
    "![](../img/model_based_cf.png)\n",
    "\n",
    "Fuente: [Matrix Factorization](https://developers.google.com/machine-learning/recommendation/collaborative/matrix)\n",
    "\n",
    "Los embeddings se aprenden de forma que el producto $UV^T$ es una buena aproximación de la matriz original $A$. Es importante destacar que la posición $(i, j)$ de la matriz $UV^T$ es simplemente el producto de los embeddings del usuario $i$ y del item $j$, que debería de ser aproximadamente $A_{i,j}$\n",
    "\n",
    "Esta nueva representación es mucho más compacta que la matriz original:\n",
    "\n",
    " - $A$ tiene $n \\times m$ elementos (ignorando el hecho que los elementos que faltan no es necesario almacenarlos)\n",
    " \n",
    " - $U$ y $V$ tienen $nd + md$ elementos y tipicamente $d$ es mucho menor que $n$ y $m$\n",
    "\n",
    "\n",
    "Para aprender los embeddings se resuelve el siguiente problema de optimización:\n",
    "\n",
    "$$\\min_{U, V} \\sum_{i, j}(A_{i,j} - U_i^T V_j)^2$$\n",
    "\n",
    "Aunque existen varios algoritmos, uno de los más populares es SVD (*Singular Value Decomposition*)"
   ]
  },
  {
   "cell_type": "code",
   "execution_count": 9,
   "metadata": {},
   "outputs": [
    {
     "name": "stdout",
     "output_type": "stream",
     "text": [
      "Dataset ml-100k could not be found. Do you want to download it? [Y/n] y\n",
      "Trying to download dataset from http://files.grouplens.org/datasets/movielens/ml-100k.zip...\n",
      "Done! Dataset ml-100k has been saved to /home/alberto/.surprise_data/ml-100k\n",
      "0.9641043327174748\n",
      "{'n_epochs': 10, 'lr_all': 0.005, 'reg_all': 0.4}\n"
     ]
    }
   ],
   "source": [
    "from surprise import SVD\n",
    "from surprise import Dataset\n",
    "from surprise.model_selection import GridSearchCV\n",
    "\n",
    "data = Dataset.load_builtin(\"ml-100k\")\n",
    "\n",
    "param_grid = {\n",
    "    \"n_epochs\": [5, 10],\n",
    "    \"lr_all\": [0.002, 0.005],\n",
    "    \"reg_all\": [0.4, 0.6]\n",
    "}\n",
    "gs = GridSearchCV(SVD, param_grid, measures=[\"rmse\", \"mae\"], cv=3)\n",
    "\n",
    "gs.fit(data)\n",
    "\n",
    "print(gs.best_score[\"rmse\"])\n",
    "print(gs.best_params[\"rmse\"])"
   ]
  },
  {
   "cell_type": "markdown",
   "metadata": {},
   "source": [
    "## Ventajas y desventajas del filtrado colaborativo\n",
    "\n",
    "Ventajas:\n",
    "\n",
    "- No necesita información sobre los items o los usuarios, únicamente sus interacciones\n",
    "\n",
    "- No es necesario conocimiento del dominio específico\n",
    "\n",
    "- El modelo puede ayudar a los usuarios a encontrar nuevos items de interés, evitando especializarse en exceso en el perfil concreto del usuario.\n",
    "\n",
    "Desventajas:\n",
    "\n",
    "- Cuando un nuevo item es añadido no se recomiendo hasta que ningún usuario interaccione con el (*cold-start*)\n",
    "\n",
    "- Si los datos son muy dispersos la calidad de las recomendaciones para determinados usuarios puede ser muy pobre\n",
    "\n",
    "- No es sencillo incluir otras variables que pueden mejorar las recomendaciones, como por ejemplo el género de las películas\n",
    "\n",
    "- Escalar estos algoritmos no es sencillo en sistemas con millones de usuarios e items"
   ]
  },
  {
   "cell_type": "markdown",
   "metadata": {},
   "source": [
    "albertotb@gmail.com"
   ]
  }
 ],
 "metadata": {
  "kernelspec": {
   "display_name": "Python 3",
   "language": "python",
   "name": "python3"
  },
  "language_info": {
   "codemirror_mode": {
    "name": "ipython",
    "version": 3
   },
   "file_extension": ".py",
   "mimetype": "text/x-python",
   "name": "python",
   "nbconvert_exporter": "python",
   "pygments_lexer": "ipython3",
   "version": "3.8.10"
  }
 },
 "nbformat": 4,
 "nbformat_minor": 4
}
